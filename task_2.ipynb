{
 "cells": [
  {
   "cell_type": "markdown",
   "id": "37435ae3",
   "metadata": {},
   "source": [
    "### Задание 1"
   ]
  },
  {
   "cell_type": "markdown",
   "id": "b111a481",
   "metadata": {},
   "source": [
    "Контрольная работа состоит из пяти вопросов. На каждый вопрос приведено четыре варианта ответа, один из которых правильный. Составьте закон распределения числа правильных ответов при простом угадывании. Найдите M(X), D(X)."
   ]
  },
  {
   "cell_type": "markdown",
   "id": "b0992dd0",
   "metadata": {},
   "source": [
    "Пусть X - дискретная случайная величина, равная числу правильных ответов. Она распределена по биномиальному закону с параметрами n = 5 (число вопросов). Вероятность угадать правильный вариант в каждом вопросе Р=1/4. Можно использовать формулу Бернулли:"
   ]
  },
  {
   "cell_type": "markdown",
   "id": "2c10eb82",
   "metadata": {},
   "source": [
    "$$P(X = k) = C_n^k p^k (1 - p)^{n - k}$$"
   ]
  },
  {
   "cell_type": "markdown",
   "id": "7ae54de6",
   "metadata": {},
   "source": [
    "$$P(X = k) = C_5^k p^k (1 - p)^{5 - k}$$"
   ]
  },
  {
   "cell_type": "code",
   "execution_count": 31,
   "id": "af8365e9",
   "metadata": {},
   "outputs": [],
   "source": [
    "from math import factorial\n",
    "import numpy as np"
   ]
  },
  {
   "cell_type": "code",
   "execution_count": 2,
   "id": "41741b54",
   "metadata": {},
   "outputs": [],
   "source": [
    "def combinations(n, k):\n",
    "    return int(factorial(n) / (factorial(k) * factorial(n - k)))"
   ]
  },
  {
   "cell_type": "markdown",
   "id": "9ec17ffd",
   "metadata": {},
   "source": [
    "$$P(X=0)=C_5^0(\\frac{1}{4})^0(1-\\frac{1}{4})^5$$"
   ]
  },
  {
   "cell_type": "code",
   "execution_count": 3,
   "id": "71362b30",
   "metadata": {},
   "outputs": [
    {
     "data": {
      "text/plain": [
       "1"
      ]
     },
     "execution_count": 3,
     "metadata": {},
     "output_type": "execute_result"
    }
   ],
   "source": [
    "combinations(5,0)"
   ]
  },
  {
   "cell_type": "code",
   "execution_count": 10,
   "id": "0279397c",
   "metadata": {},
   "outputs": [
    {
     "data": {
      "text/plain": [
       "0.2373046875"
      ]
     },
     "execution_count": 10,
     "metadata": {},
     "output_type": "execute_result"
    }
   ],
   "source": [
    "1*1*(1-(1/4))**5"
   ]
  },
  {
   "cell_type": "markdown",
   "id": "b7d7192e",
   "metadata": {},
   "source": [
    "$$P(X=1)=C_5^1(\\frac{1}{4})^1(1-\\frac{1}{4})^4$$"
   ]
  },
  {
   "cell_type": "code",
   "execution_count": 8,
   "id": "ec6fcbfb",
   "metadata": {},
   "outputs": [
    {
     "data": {
      "text/plain": [
       "5"
      ]
     },
     "execution_count": 8,
     "metadata": {},
     "output_type": "execute_result"
    }
   ],
   "source": [
    "combinations(5,1)"
   ]
  },
  {
   "cell_type": "code",
   "execution_count": 11,
   "id": "d2a67b48",
   "metadata": {},
   "outputs": [
    {
     "data": {
      "text/plain": [
       "0.3955078125"
      ]
     },
     "execution_count": 11,
     "metadata": {},
     "output_type": "execute_result"
    }
   ],
   "source": [
    "5*(1/4)*(1-(1/4))**4"
   ]
  },
  {
   "cell_type": "markdown",
   "id": "5772a5da",
   "metadata": {},
   "source": [
    "$$P(X=2)=C_5^2(\\frac{1}{4})^2(1-\\frac{1}{4})^3$$"
   ]
  },
  {
   "cell_type": "code",
   "execution_count": 12,
   "id": "346bc7da",
   "metadata": {},
   "outputs": [
    {
     "data": {
      "text/plain": [
       "10"
      ]
     },
     "execution_count": 12,
     "metadata": {},
     "output_type": "execute_result"
    }
   ],
   "source": [
    "combinations(5,2)"
   ]
  },
  {
   "cell_type": "code",
   "execution_count": 13,
   "id": "5089491d",
   "metadata": {},
   "outputs": [
    {
     "data": {
      "text/plain": [
       "0.263671875"
      ]
     },
     "execution_count": 13,
     "metadata": {},
     "output_type": "execute_result"
    }
   ],
   "source": [
    "10*((1/4)**2)*(1-(1/4))**3"
   ]
  },
  {
   "cell_type": "markdown",
   "id": "9b4e16c7",
   "metadata": {},
   "source": [
    "$$P(X=3)=C_5^3(\\frac{1}{4})^3(1-\\frac{1}{4})^2$$"
   ]
  },
  {
   "cell_type": "code",
   "execution_count": 14,
   "id": "bf963ce6",
   "metadata": {},
   "outputs": [
    {
     "data": {
      "text/plain": [
       "10"
      ]
     },
     "execution_count": 14,
     "metadata": {},
     "output_type": "execute_result"
    }
   ],
   "source": [
    "combinations(5,3)"
   ]
  },
  {
   "cell_type": "code",
   "execution_count": 15,
   "id": "d12550f6",
   "metadata": {},
   "outputs": [
    {
     "data": {
      "text/plain": [
       "0.087890625"
      ]
     },
     "execution_count": 15,
     "metadata": {},
     "output_type": "execute_result"
    }
   ],
   "source": [
    "10*((1/4)**3)*(1-(1/4))**2"
   ]
  },
  {
   "cell_type": "markdown",
   "id": "8b8d6936",
   "metadata": {},
   "source": [
    "$$P(X=4)=C_5^4(\\frac{1}{4})^4(1-\\frac{1}{4})^1$$"
   ]
  },
  {
   "cell_type": "code",
   "execution_count": 16,
   "id": "3e58fdf5",
   "metadata": {},
   "outputs": [
    {
     "data": {
      "text/plain": [
       "5"
      ]
     },
     "execution_count": 16,
     "metadata": {},
     "output_type": "execute_result"
    }
   ],
   "source": [
    "combinations(5,4)"
   ]
  },
  {
   "cell_type": "code",
   "execution_count": 17,
   "id": "e6e9aa2b",
   "metadata": {},
   "outputs": [
    {
     "data": {
      "text/plain": [
       "0.0146484375"
      ]
     },
     "execution_count": 17,
     "metadata": {},
     "output_type": "execute_result"
    }
   ],
   "source": [
    "5*((1/4)**4)*(1-(1/4))"
   ]
  },
  {
   "cell_type": "markdown",
   "id": "10f64ecd",
   "metadata": {},
   "source": [
    "$$P(X=5)=C_5^5(\\frac{1}{4})^5(1-\\frac{1}{4})^0$$"
   ]
  },
  {
   "cell_type": "code",
   "execution_count": 18,
   "id": "b3f992fc",
   "metadata": {},
   "outputs": [
    {
     "data": {
      "text/plain": [
       "1"
      ]
     },
     "execution_count": 18,
     "metadata": {},
     "output_type": "execute_result"
    }
   ],
   "source": [
    "combinations(5,5)"
   ]
  },
  {
   "cell_type": "code",
   "execution_count": 19,
   "id": "ae6edecd",
   "metadata": {},
   "outputs": [
    {
     "data": {
      "text/plain": [
       "0.0009765625"
      ]
     },
     "execution_count": 19,
     "metadata": {},
     "output_type": "execute_result"
    }
   ],
   "source": [
    "1*((1/4)**5)*1"
   ]
  },
  {
   "cell_type": "code",
   "execution_count": 20,
   "id": "a9a47ea2",
   "metadata": {},
   "outputs": [
    {
     "data": {
      "text/plain": [
       "1.0"
      ]
     },
     "execution_count": 20,
     "metadata": {},
     "output_type": "execute_result"
    }
   ],
   "source": [
    "0.2373046875+0.3955078125+0.263671875+0.087890625+0.0146484375+0.0009765625"
   ]
  },
  {
   "cell_type": "markdown",
   "id": "06bef413",
   "metadata": {},
   "source": [
    "$$M(X) = np$$"
   ]
  },
  {
   "cell_type": "code",
   "execution_count": 21,
   "id": "bd4af095",
   "metadata": {},
   "outputs": [
    {
     "data": {
      "text/plain": [
       "1.25"
      ]
     },
     "execution_count": 21,
     "metadata": {},
     "output_type": "execute_result"
    }
   ],
   "source": [
    "5*1/4"
   ]
  },
  {
   "cell_type": "markdown",
   "id": "d1157ab3",
   "metadata": {},
   "source": [
    "$$D(X) = np(1-p)$$"
   ]
  },
  {
   "cell_type": "code",
   "execution_count": 22,
   "id": "fd7096f9",
   "metadata": {},
   "outputs": [
    {
     "data": {
      "text/plain": [
       "0.9375"
      ]
     },
     "execution_count": 22,
     "metadata": {},
     "output_type": "execute_result"
    }
   ],
   "source": [
    "5*(1/4)*(1-1/4)"
   ]
  },
  {
   "cell_type": "markdown",
   "id": "25a5588d",
   "metadata": {},
   "source": [
    "### Задание 2"
   ]
  },
  {
   "cell_type": "markdown",
   "id": "010fbaff",
   "metadata": {},
   "source": [
    "Вероятность поймать рыбу при одном забрасывании удочки равна 0.01. Какова вероятность того, что число пойманных рыб при 200 забросах удочки будет не менее 5 и не более 10?"
   ]
  },
  {
   "cell_type": "markdown",
   "id": "e09e0396",
   "metadata": {},
   "source": [
    "В этом задании можно использовать формулу распределения Пуассона:"
   ]
  },
  {
   "cell_type": "markdown",
   "id": "c407c4a8",
   "metadata": {},
   "source": [
    "$$P(X = k) = \\dfrac{a^k e ^{-a}}{k!}.$$"
   ]
  },
  {
   "cell_type": "markdown",
   "id": "f16e2947",
   "metadata": {},
   "source": [
    "$a = np$  \n",
    "$a = 200*0,01 = 2$"
   ]
  },
  {
   "cell_type": "code",
   "execution_count": 32,
   "id": "4cf833a4",
   "metadata": {},
   "outputs": [],
   "source": [
    "def poisson_proba(k, lambda_):\n",
    "    \n",
    "    return (lambda_ ** k) * (np.exp(-lambda_)) / np.math.factorial(k)"
   ]
  },
  {
   "cell_type": "code",
   "execution_count": 29,
   "id": "f9152f46",
   "metadata": {},
   "outputs": [],
   "source": [
    "lambda_=2"
   ]
  },
  {
   "cell_type": "markdown",
   "id": "baff4e37",
   "metadata": {},
   "source": [
    "$$P(5 \\leq X \\leq 10) = \\displaystyle\\sum_{i = 5}^{10} \\dfrac{2^{i} e^{-2}}{i!}$$"
   ]
  },
  {
   "cell_type": "code",
   "execution_count": 35,
   "id": "b26ff731",
   "metadata": {},
   "outputs": [
    {
     "data": {
      "text/plain": [
       "0.052644709119342686"
      ]
     },
     "execution_count": 35,
     "metadata": {},
     "output_type": "execute_result"
    }
   ],
   "source": [
    "sum(poisson_proba(k=i, lambda_=lambda_) for i in range(5,11))"
   ]
  },
  {
   "cell_type": "markdown",
   "id": "0c6d9f5c",
   "metadata": {},
   "source": [
    "### Задание 3"
   ]
  },
  {
   "cell_type": "markdown",
   "id": "90dd5fd0",
   "metadata": {},
   "source": [
    "В условиях предыдущей задачи сколько забросов удочки нужно сделать чтобы быть уверенным с вероятностью 0.9, что хотя бы 10 раз будет поймана рыба?"
   ]
  },
  {
   "cell_type": "markdown",
   "id": "1a6f229d",
   "metadata": {},
   "source": [
    "Могу предположить что ответ определяется следующей формулой:  \n",
    "$$P(X \\geq 10) = 1 - P(X < 10)$$"
   ]
  },
  {
   "cell_type": "markdown",
   "id": "b11546f5",
   "metadata": {},
   "source": [
    "$$P(X \\geq 10) = 1 - \\displaystyle\\sum_{i = 0}^{10} \\dfrac{(0.01n)^{i} e^{-0.01n}}{i!}$$"
   ]
  },
  {
   "cell_type": "code",
   "execution_count": null,
   "id": "a128db58",
   "metadata": {},
   "outputs": [],
   "source": []
  }
 ],
 "metadata": {
  "kernelspec": {
   "display_name": "Python 3",
   "language": "python",
   "name": "python3"
  },
  "language_info": {
   "codemirror_mode": {
    "name": "ipython",
    "version": 3
   },
   "file_extension": ".py",
   "mimetype": "text/x-python",
   "name": "python",
   "nbconvert_exporter": "python",
   "pygments_lexer": "ipython3",
   "version": "3.8.8"
  }
 },
 "nbformat": 4,
 "nbformat_minor": 5
}
