{
 "cells": [
  {
   "cell_type": "code",
   "execution_count": 1,
   "id": "7d8c90d6",
   "metadata": {},
   "outputs": [],
   "source": [
    "import numpy as np\n",
    "import pandas as pd\n",
    "from matplotlib import pyplot as plt\n",
    "plt.style.use('seaborn-whitegrid')\n",
    "from scipy import stats"
   ]
  },
  {
   "cell_type": "markdown",
   "id": "78dafe2c",
   "metadata": {},
   "source": [
    "### Задание 1"
   ]
  },
  {
   "cell_type": "markdown",
   "id": "f31b76f0",
   "metadata": {},
   "source": [
    "Дана матрица объект-признак"
   ]
  },
  {
   "cell_type": "code",
   "execution_count": 2,
   "id": "424783da",
   "metadata": {},
   "outputs": [],
   "source": [
    "x = np.array([[ 1.22401313, 2.30868478, 3.03636353, 2.69287214],\n",
    "[-0.18757272, 1.30337355, 5.12093014, 3.46363202],\n",
    "[-0.81094525, 1.82463398, 5.79686488, 1.86159445],\n",
    "[ 0.75129018, 2.67392052, 3.65529809, 1.66746094],\n",
    "[ 0.00972362, 1.97367255, 2.50594319, 1.69755173],\n",
    "[-0.62972637, 0.77750764, 2.84124027, 4.54410559],\n",
    "[ 2.29536229, 1.81206697, 1.95026215, 1.51874636],\n",
    "[ 0.0920418 , 2.26971361, 7.47708735, 2.61081203],\n",
    "[ 2.39252799, 3.17563985, 3.61420599, 5.10773362],\n",
    "[ 0.54983815, 2.87988651, 1.65752765, 1.59635987]])"
   ]
  },
  {
   "cell_type": "markdown",
   "id": "e1195c52",
   "metadata": {},
   "source": [
    "и значения целевой переменной"
   ]
  },
  {
   "cell_type": "code",
   "execution_count": 3,
   "id": "0c295b27",
   "metadata": {},
   "outputs": [],
   "source": [
    "y = np.array([ 9.26193358, 9.700363 , 8.67214805, 8.74796974, 6.18689108,\n",
    "7.53312713, 7.57643777, 12.44965478, 14.29010746, 6.68361218])"
   ]
  },
  {
   "cell_type": "markdown",
   "id": "9358addd",
   "metadata": {},
   "source": [
    "1. Подберите два признака (из четырёх) так, чтобы уровень линейной зависимости целевой переменной от значений этих признаков был максимальным. Другими словами, модель линейной регрессии на этих признаках должна давать максимальный R2. Например, берем признак х1 и х3 и строим модель y = b0 + b1 * x1 + b2 * x3, затем признаки x2 и x1 и тд\n",
    "2. Является ли значимым получившееся уравнение регрессии?"
   ]
  },
  {
   "cell_type": "code",
   "execution_count": 4,
   "id": "bf6d6afe",
   "metadata": {},
   "outputs": [
    {
     "data": {
      "text/plain": [
       "((10, 4), (10,))"
      ]
     },
     "execution_count": 4,
     "metadata": {},
     "output_type": "execute_result"
    }
   ],
   "source": [
    "x.shape, y.shape"
   ]
  },
  {
   "cell_type": "code",
   "execution_count": 5,
   "id": "cfc71a31",
   "metadata": {},
   "outputs": [],
   "source": [
    "# x1 и x3\n",
    "x1 = np.array([[ 1.22401313, 3.03636353],\n",
    "[-0.18757272,  5.12093014],\n",
    "[-0.81094525, 5.79686488],\n",
    "[ 0.75129018, 3.65529809],\n",
    "[ 0.00972362, 2.50594319],\n",
    "[-0.62972637, 2.84124027],\n",
    "[ 2.29536229, 1.95026215],\n",
    "[ 0.0920418 , 7.47708735],\n",
    "[ 2.39252799, 3.61420599],\n",
    "[ 0.54983815, 1.65752765]])"
   ]
  },
  {
   "cell_type": "code",
   "execution_count": 6,
   "id": "9d2a6ac4",
   "metadata": {},
   "outputs": [
    {
     "data": {
      "text/plain": [
       "array([[ 1.        ,  1.22401313,  3.03636353],\n",
       "       [ 1.        , -0.18757272,  5.12093014],\n",
       "       [ 1.        , -0.81094525,  5.79686488],\n",
       "       [ 1.        ,  0.75129018,  3.65529809],\n",
       "       [ 1.        ,  0.00972362,  2.50594319],\n",
       "       [ 1.        , -0.62972637,  2.84124027],\n",
       "       [ 1.        ,  2.29536229,  1.95026215],\n",
       "       [ 1.        ,  0.0920418 ,  7.47708735],\n",
       "       [ 1.        ,  2.39252799,  3.61420599],\n",
       "       [ 1.        ,  0.54983815,  1.65752765]])"
      ]
     },
     "execution_count": 6,
     "metadata": {},
     "output_type": "execute_result"
    }
   ],
   "source": [
    "ones = np.ones((x1.shape[0], 1))\n",
    "x1 = np.hstack((ones, x1))\n",
    "x1"
   ]
  },
  {
   "cell_type": "code",
   "execution_count": 7,
   "id": "98b4e25c",
   "metadata": {},
   "outputs": [
    {
     "data": {
      "text/plain": [
       "2835.3600226240965"
      ]
     },
     "execution_count": 7,
     "metadata": {},
     "output_type": "execute_result"
    }
   ],
   "source": [
    "XTX1 = x1.T.dot(x1)\n",
    "\n",
    "np.linalg.det(XTX1)"
   ]
  },
  {
   "cell_type": "code",
   "execution_count": 8,
   "id": "5492df20",
   "metadata": {},
   "outputs": [
    {
     "name": "stdout",
     "output_type": "stream",
     "text": [
      "[3.62455695 1.62531203 1.21134979]\n"
     ]
    }
   ],
   "source": [
    "XTX1_inv = np.linalg.inv(XTX1)\n",
    "\n",
    "b = XTX1_inv.dot(x1.T).dot(y)\n",
    "\n",
    "print(b)"
   ]
  },
  {
   "cell_type": "code",
   "execution_count": 9,
   "id": "0a4d9dcf",
   "metadata": {},
   "outputs": [],
   "source": [
    "def sum_of_squares(samples):\n",
    "    return ((samples - samples.mean()) ** 2).sum()"
   ]
  },
  {
   "cell_type": "code",
   "execution_count": 10,
   "id": "814dc67d",
   "metadata": {},
   "outputs": [],
   "source": [
    "z1 = x1.dot(b)"
   ]
  },
  {
   "cell_type": "code",
   "execution_count": 11,
   "id": "dd79eabf",
   "metadata": {},
   "outputs": [
    {
     "data": {
      "text/plain": [
       "0.763424623879315"
      ]
     },
     "execution_count": 11,
     "metadata": {},
     "output_type": "execute_result"
    }
   ],
   "source": [
    "R2_1 = 1 - ((y - z1)**2).sum() / sum_of_squares(y)\n",
    "R2_1"
   ]
  },
  {
   "cell_type": "code",
   "execution_count": 12,
   "id": "ca8b4195",
   "metadata": {},
   "outputs": [],
   "source": [
    "# x1 и x4\n",
    "x2 = np.array([[ 1.22401313, 2.69287214],\n",
    "[-0.18757272,  3.46363202],\n",
    "[-0.81094525, 1.86159445],\n",
    "[ 0.75129018,  1.66746094],\n",
    "[ 0.00972362,  1.69755173],\n",
    "[-0.62972637,  4.54410559],\n",
    "[ 2.29536229,  1.51874636],\n",
    "[ 0.0920418 ,  2.61081203],\n",
    "[ 2.39252799,  5.10773362],\n",
    "[ 0.54983815,  1.59635987]])"
   ]
  },
  {
   "cell_type": "code",
   "execution_count": 13,
   "id": "6132a564",
   "metadata": {},
   "outputs": [
    {
     "data": {
      "text/plain": [
       "array([[ 1.        ,  1.22401313,  2.69287214],\n",
       "       [ 1.        , -0.18757272,  3.46363202],\n",
       "       [ 1.        , -0.81094525,  1.86159445],\n",
       "       [ 1.        ,  0.75129018,  1.66746094],\n",
       "       [ 1.        ,  0.00972362,  1.69755173],\n",
       "       [ 1.        , -0.62972637,  4.54410559],\n",
       "       [ 1.        ,  2.29536229,  1.51874636],\n",
       "       [ 1.        ,  0.0920418 ,  2.61081203],\n",
       "       [ 1.        ,  2.39252799,  5.10773362],\n",
       "       [ 1.        ,  0.54983815,  1.59635987]])"
      ]
     },
     "execution_count": 13,
     "metadata": {},
     "output_type": "execute_result"
    }
   ],
   "source": [
    "ones = np.ones((x2.shape[0], 1))\n",
    "x2 = np.hstack((ones, x2))\n",
    "x2"
   ]
  },
  {
   "cell_type": "code",
   "execution_count": 14,
   "id": "b443805a",
   "metadata": {},
   "outputs": [
    {
     "data": {
      "text/plain": [
       "1689.2124743606066"
      ]
     },
     "execution_count": 14,
     "metadata": {},
     "output_type": "execute_result"
    }
   ],
   "source": [
    "XTX2 = x2.T.dot(x2)\n",
    "\n",
    "np.linalg.det(XTX2)"
   ]
  },
  {
   "cell_type": "code",
   "execution_count": 15,
   "id": "d91ff370",
   "metadata": {},
   "outputs": [
    {
     "name": "stdout",
     "output_type": "stream",
     "text": [
      "[5.70686123 0.68359949 1.12650707]\n"
     ]
    }
   ],
   "source": [
    "XTX2_inv = np.linalg.inv(XTX2)\n",
    "\n",
    "b = XTX2_inv.dot(x2.T).dot(y)\n",
    "\n",
    "print(b)"
   ]
  },
  {
   "cell_type": "code",
   "execution_count": 16,
   "id": "c15dbb0f",
   "metadata": {},
   "outputs": [
    {
     "data": {
      "text/plain": [
       "0.4532966783144079"
      ]
     },
     "execution_count": 16,
     "metadata": {},
     "output_type": "execute_result"
    }
   ],
   "source": [
    "z2 = x2.dot(b)\n",
    "R2_2 = 1 - ((y - z2)**2).sum() / sum_of_squares(y)\n",
    "R2_2"
   ]
  },
  {
   "cell_type": "code",
   "execution_count": 17,
   "id": "1e4ac343",
   "metadata": {},
   "outputs": [],
   "source": [
    "# x2 и x3\n",
    "x3 = np.array([[ 2.30868478, 3.03636353],\n",
    "[ 1.30337355, 5.12093014],\n",
    "[ 1.82463398, 5.79686488],\n",
    "[  2.67392052, 3.65529809],\n",
    "[  1.97367255, 2.50594319],\n",
    "[ 0.77750764, 2.84124027],\n",
    "[  1.81206697, 1.95026215],\n",
    "[  2.26971361, 7.47708735],\n",
    "[  3.17563985, 3.61420599],\n",
    "[  2.87988651, 1.65752765]])"
   ]
  },
  {
   "cell_type": "code",
   "execution_count": 18,
   "id": "22c0b414",
   "metadata": {},
   "outputs": [
    {
     "data": {
      "text/plain": [
       "array([[1.        , 2.30868478, 3.03636353],\n",
       "       [1.        , 1.30337355, 5.12093014],\n",
       "       [1.        , 1.82463398, 5.79686488],\n",
       "       [1.        , 2.67392052, 3.65529809],\n",
       "       [1.        , 1.97367255, 2.50594319],\n",
       "       [1.        , 0.77750764, 2.84124027],\n",
       "       [1.        , 1.81206697, 1.95026215],\n",
       "       [1.        , 2.26971361, 7.47708735],\n",
       "       [1.        , 3.17563985, 3.61420599],\n",
       "       [1.        , 2.87988651, 1.65752765]])"
      ]
     },
     "execution_count": 18,
     "metadata": {},
     "output_type": "execute_result"
    }
   ],
   "source": [
    "ones = np.ones((x3.shape[0], 1))\n",
    "x3 = np.hstack((ones, x3))\n",
    "x3"
   ]
  },
  {
   "cell_type": "code",
   "execution_count": 19,
   "id": "9200541d",
   "metadata": {},
   "outputs": [
    {
     "data": {
      "text/plain": [
       "1427.8125776081506"
      ]
     },
     "execution_count": 19,
     "metadata": {},
     "output_type": "execute_result"
    }
   ],
   "source": [
    "XTX3 = x3.T.dot(x3)\n",
    "\n",
    "np.linalg.det(XTX3)"
   ]
  },
  {
   "cell_type": "code",
   "execution_count": 20,
   "id": "bfd645ba",
   "metadata": {},
   "outputs": [
    {
     "name": "stdout",
     "output_type": "stream",
     "text": [
      "[2.48896193 1.60611956 0.86269915]\n"
     ]
    }
   ],
   "source": [
    "XTX3_inv = np.linalg.inv(XTX3)\n",
    "\n",
    "b = XTX3_inv.dot(x3.T).dot(y)\n",
    "\n",
    "print(b)"
   ]
  },
  {
   "cell_type": "code",
   "execution_count": 21,
   "id": "e35c30c9",
   "metadata": {},
   "outputs": [
    {
     "data": {
      "text/plain": [
       "0.547948273403901"
      ]
     },
     "execution_count": 21,
     "metadata": {},
     "output_type": "execute_result"
    }
   ],
   "source": [
    "z3 = x3.dot(b)\n",
    "R2_3 = 1 - ((y - z3)**2).sum() / sum_of_squares(y)\n",
    "R2_3"
   ]
  },
  {
   "cell_type": "code",
   "execution_count": 22,
   "id": "51cb239e",
   "metadata": {},
   "outputs": [],
   "source": [
    "# x2 и x4\n",
    "x4 = np.array([[  2.30868478,  2.69287214],\n",
    "[ 1.30337355,  3.46363202],\n",
    "[ 1.82463398,  1.86159445],\n",
    "[ 2.67392052,  1.66746094],\n",
    "[ 1.97367255,  1.69755173],\n",
    "[ 0.77750764,  4.54410559],\n",
    "[  1.81206697,  1.51874636],\n",
    "[  2.26971361,  2.61081203],\n",
    "[  3.17563985,  5.10773362],\n",
    "[  2.87988651,  1.59635987]])"
   ]
  },
  {
   "cell_type": "code",
   "execution_count": 23,
   "id": "c3943396",
   "metadata": {},
   "outputs": [
    {
     "data": {
      "text/plain": [
       "array([[1.        , 2.30868478, 2.69287214],\n",
       "       [1.        , 1.30337355, 3.46363202],\n",
       "       [1.        , 1.82463398, 1.86159445],\n",
       "       [1.        , 2.67392052, 1.66746094],\n",
       "       [1.        , 1.97367255, 1.69755173],\n",
       "       [1.        , 0.77750764, 4.54410559],\n",
       "       [1.        , 1.81206697, 1.51874636],\n",
       "       [1.        , 2.26971361, 2.61081203],\n",
       "       [1.        , 3.17563985, 5.10773362],\n",
       "       [1.        , 2.87988651, 1.59635987]])"
      ]
     },
     "execution_count": 23,
     "metadata": {},
     "output_type": "execute_result"
    }
   ],
   "source": [
    "ones = np.ones((x4.shape[0], 1))\n",
    "x4 = np.hstack((ones, x4))\n",
    "x4"
   ]
  },
  {
   "cell_type": "code",
   "execution_count": 24,
   "id": "cf89c3e9",
   "metadata": {},
   "outputs": [
    {
     "data": {
      "text/plain": [
       "701.732736445317"
      ]
     },
     "execution_count": 24,
     "metadata": {},
     "output_type": "execute_result"
    }
   ],
   "source": [
    "XTX4 = x4.T.dot(x4)\n",
    "\n",
    "np.linalg.det(XTX4)"
   ]
  },
  {
   "cell_type": "code",
   "execution_count": 25,
   "id": "d452146d",
   "metadata": {},
   "outputs": [
    {
     "name": "stdout",
     "output_type": "stream",
     "text": [
      "[1.91685221 1.74373667 1.31971882]\n"
     ]
    }
   ],
   "source": [
    "XTX4_inv = np.linalg.inv(XTX4)\n",
    "\n",
    "b = XTX4_inv.dot(x4.T).dot(y)\n",
    "\n",
    "print(b)"
   ]
  },
  {
   "cell_type": "code",
   "execution_count": 26,
   "id": "7a19705a",
   "metadata": {},
   "outputs": [
    {
     "data": {
      "text/plain": [
       "0.6062055761129934"
      ]
     },
     "execution_count": 26,
     "metadata": {},
     "output_type": "execute_result"
    }
   ],
   "source": [
    "z4 = x4.dot(b)\n",
    "R2_4 = 1 - ((y - z4)**2).sum() / sum_of_squares(y)\n",
    "R2_4"
   ]
  },
  {
   "cell_type": "code",
   "execution_count": 27,
   "id": "ad9e0fae",
   "metadata": {},
   "outputs": [],
   "source": [
    "# x1 и x2\n",
    "x5 = np.array([[ 1.22401313, 2.30868478],\n",
    "[-0.18757272, 1.30337355],\n",
    "[-0.81094525, 1.82463398],\n",
    "[ 0.75129018, 2.67392052],\n",
    "[ 0.00972362, 1.97367255],\n",
    "[-0.62972637, 0.77750764],\n",
    "[ 2.29536229, 1.81206697],\n",
    "[ 0.0920418 , 2.26971361],\n",
    "[ 2.39252799, 3.17563985],\n",
    "[ 0.54983815, 2.87988651]])"
   ]
  },
  {
   "cell_type": "code",
   "execution_count": 28,
   "id": "91d8fca0",
   "metadata": {},
   "outputs": [
    {
     "data": {
      "text/plain": [
       "array([[ 1.        ,  1.22401313,  2.30868478],\n",
       "       [ 1.        , -0.18757272,  1.30337355],\n",
       "       [ 1.        , -0.81094525,  1.82463398],\n",
       "       [ 1.        ,  0.75129018,  2.67392052],\n",
       "       [ 1.        ,  0.00972362,  1.97367255],\n",
       "       [ 1.        , -0.62972637,  0.77750764],\n",
       "       [ 1.        ,  2.29536229,  1.81206697],\n",
       "       [ 1.        ,  0.0920418 ,  2.26971361],\n",
       "       [ 1.        ,  2.39252799,  3.17563985],\n",
       "       [ 1.        ,  0.54983815,  2.87988651]])"
      ]
     },
     "execution_count": 28,
     "metadata": {},
     "output_type": "execute_result"
    }
   ],
   "source": [
    "ones = np.ones((x5.shape[0], 1))\n",
    "x5 = np.hstack((ones, x5))\n",
    "x5"
   ]
  },
  {
   "cell_type": "code",
   "execution_count": 29,
   "id": "8057fd5a",
   "metadata": {},
   "outputs": [
    {
     "data": {
      "text/plain": [
       "349.77820338188496"
      ]
     },
     "execution_count": 29,
     "metadata": {},
     "output_type": "execute_result"
    }
   ],
   "source": [
    "XTX5 = x5.T.dot(x5)\n",
    "\n",
    "np.linalg.det(XTX5)"
   ]
  },
  {
   "cell_type": "code",
   "execution_count": 30,
   "id": "80255752",
   "metadata": {},
   "outputs": [
    {
     "name": "stdout",
     "output_type": "stream",
     "text": [
      "[6.70781579 0.40786841 1.03360247]\n"
     ]
    }
   ],
   "source": [
    "XTX5_inv = np.linalg.inv(XTX5)\n",
    "\n",
    "b = XTX5_inv.dot(x5.T).dot(y)\n",
    "\n",
    "print(b)"
   ]
  },
  {
   "cell_type": "code",
   "execution_count": 31,
   "id": "f3f65245",
   "metadata": {},
   "outputs": [
    {
     "data": {
      "text/plain": [
       "0.18113594742585215"
      ]
     },
     "execution_count": 31,
     "metadata": {},
     "output_type": "execute_result"
    }
   ],
   "source": [
    "z5 = x5.dot(b)\n",
    "R2_5 = 1 - ((y - z5)**2).sum() / sum_of_squares(y)\n",
    "R2_5"
   ]
  },
  {
   "cell_type": "code",
   "execution_count": 32,
   "id": "10879337",
   "metadata": {},
   "outputs": [],
   "source": [
    "# x3 и x4\n",
    "x6 = np.array([[ 3.03636353, 2.69287214],\n",
    "[ 5.12093014, 3.46363202],\n",
    "[ 5.79686488, 1.86159445],\n",
    "[ 3.65529809, 1.66746094],\n",
    "[ 2.50594319, 1.69755173],\n",
    "[ 2.84124027, 4.54410559],\n",
    "[  1.95026215, 1.51874636],\n",
    "[  7.47708735, 2.61081203],\n",
    "[  3.61420599, 5.10773362],\n",
    "[ 1.65752765, 1.59635987]])"
   ]
  },
  {
   "cell_type": "code",
   "execution_count": 33,
   "id": "0b28e2e0",
   "metadata": {},
   "outputs": [
    {
     "data": {
      "text/plain": [
       "array([[1.        , 3.03636353, 2.69287214],\n",
       "       [1.        , 5.12093014, 3.46363202],\n",
       "       [1.        , 5.79686488, 1.86159445],\n",
       "       [1.        , 3.65529809, 1.66746094],\n",
       "       [1.        , 2.50594319, 1.69755173],\n",
       "       [1.        , 2.84124027, 4.54410559],\n",
       "       [1.        , 1.95026215, 1.51874636],\n",
       "       [1.        , 7.47708735, 2.61081203],\n",
       "       [1.        , 3.61420599, 5.10773362],\n",
       "       [1.        , 1.65752765, 1.59635987]])"
      ]
     },
     "execution_count": 33,
     "metadata": {},
     "output_type": "execute_result"
    }
   ],
   "source": [
    "ones = np.ones((x6.shape[0], 1))\n",
    "x6 = np.hstack((ones, x6))\n",
    "x6"
   ]
  },
  {
   "cell_type": "code",
   "execution_count": 34,
   "id": "31cc5c27",
   "metadata": {},
   "outputs": [
    {
     "data": {
      "text/plain": [
       "4547.328074863321"
      ]
     },
     "execution_count": 34,
     "metadata": {},
     "output_type": "execute_result"
    }
   ],
   "source": [
    "XTX6 = x6.T.dot(x6)\n",
    "\n",
    "np.linalg.det(XTX6)"
   ]
  },
  {
   "cell_type": "code",
   "execution_count": 35,
   "id": "a2a3c224",
   "metadata": {},
   "outputs": [
    {
     "name": "stdout",
     "output_type": "stream",
     "text": [
      "[3.64001086 0.70753914 1.04851745]\n"
     ]
    }
   ],
   "source": [
    "XTX6_inv = np.linalg.inv(XTX6)\n",
    "\n",
    "b = XTX6_inv.dot(x6.T).dot(y)\n",
    "\n",
    "print(b)"
   ]
  },
  {
   "cell_type": "code",
   "execution_count": 36,
   "id": "71da2cbd",
   "metadata": {},
   "outputs": [
    {
     "data": {
      "text/plain": [
       "0.622441987650532"
      ]
     },
     "execution_count": 36,
     "metadata": {},
     "output_type": "execute_result"
    }
   ],
   "source": [
    "z6 = x6.dot(b)\n",
    "R2_6 = 1 - ((y - z6)**2).sum() / sum_of_squares(y)\n",
    "R2_6"
   ]
  },
  {
   "cell_type": "markdown",
   "id": "f5ab44d0",
   "metadata": {},
   "source": [
    "Пара x1 и x3 даёт максимальный R2, значит эти признаки значимы"
   ]
  },
  {
   "cell_type": "code",
   "execution_count": 37,
   "id": "30c7db35",
   "metadata": {},
   "outputs": [
    {
     "data": {
      "text/plain": [
       "(1, 8)"
      ]
     },
     "execution_count": 37,
     "metadata": {},
     "output_type": "execute_result"
    }
   ],
   "source": [
    "n = 10\n",
    "m = 1\n",
    "\n",
    "k1 = m\n",
    "k2 = n - m - 1\n",
    "\n",
    "k1, k2"
   ]
  },
  {
   "cell_type": "code",
   "execution_count": 38,
   "id": "416b0eca",
   "metadata": {},
   "outputs": [
    {
     "data": {
      "text/plain": [
       "5.317655071578714"
      ]
     },
     "execution_count": 38,
     "metadata": {},
     "output_type": "execute_result"
    }
   ],
   "source": [
    "alpha = 0.05\n",
    "\n",
    "t = stats.f.ppf(1 - alpha, k1, k2)\n",
    "t"
   ]
  },
  {
   "cell_type": "code",
   "execution_count": 39,
   "id": "421997e6",
   "metadata": {},
   "outputs": [
    {
     "data": {
      "text/plain": [
       "25.815860852394596"
      ]
     },
     "execution_count": 39,
     "metadata": {},
     "output_type": "execute_result"
    }
   ],
   "source": [
    "# F-критерий Фишера\n",
    "F = (R2_1 / k1) / ((1 - R2_1) / k2)\n",
    "F"
   ]
  },
  {
   "cell_type": "markdown",
   "id": "02f6e631",
   "metadata": {},
   "source": [
    "Статистика попала в критическую область, уравнение регрессии признаётся значимым."
   ]
  },
  {
   "cell_type": "markdown",
   "id": "a7101344",
   "metadata": {},
   "source": [
    "### Задание 2"
   ]
  },
  {
   "cell_type": "markdown",
   "id": "3122ce3c",
   "metadata": {},
   "source": [
    "Даны значения величины заработной платы заемщиков банка (salary) и значения их поведенческого кредитного скоринга (scoring):"
   ]
  },
  {
   "cell_type": "code",
   "execution_count": 40,
   "id": "bfb84f3c",
   "metadata": {},
   "outputs": [],
   "source": [
    "salary = [35, 45, 190, 200, 40, 70, 54, 150, 120, 110]\n",
    "scoring = [401, 574, 874, 919, 459, 739, 653, 902, 746, 832]"
   ]
  },
  {
   "cell_type": "markdown",
   "id": "5390eb3d",
   "metadata": {},
   "source": [
    "Возьмём в качестве признака значение salary, а в качестве целевой переменной - scoring.\n",
    "\n",
    "1. Найдите коэффициенты линейной регрессии с помощью формул для парной регрессии, а затем с помощью метода наименьших квадратов.\n",
    "2. Постройте scatter plot по данным и отметьте на нём прямую линейной регрессии, полученную в п. 1.\n",
    "3. Посчитайте коэффициент детерминации.\n",
    "4. Оцените построенное уравнение регрессии с помощью F-критерия Фишера.\n",
    "5. (доп) Посчитать среднюю ошибку аппроксимации"
   ]
  },
  {
   "cell_type": "code",
   "execution_count": 41,
   "id": "0578fa7e",
   "metadata": {},
   "outputs": [],
   "source": [
    "df = pd.DataFrame({'salary': [35, 45, 190, 200, 40, 70, 54, 150, 120, 110],\\\n",
    "                   'scoring': [401, 574, 874, 919, 459, 739, 653, 902, 746, 832]})"
   ]
  },
  {
   "cell_type": "code",
   "execution_count": 42,
   "id": "fede277a",
   "metadata": {},
   "outputs": [
    {
     "name": "stdout",
     "output_type": "stream",
     "text": [
      "y = 444.1773573243596 + 2.620538882402765x\n"
     ]
    }
   ],
   "source": [
    "b = (np.mean(df.salary * df.scoring) - np.mean(df.salary) * np.mean(df.scoring)) / (np.mean(df.salary**2) - np.mean(df.salary) ** 2)\n",
    "a = np.mean(df.scoring) - b * np.mean(df.salary)\n",
    "print(f'y = {a} + {b}x')"
   ]
  },
  {
   "cell_type": "code",
   "execution_count": 43,
   "id": "5b718a1d",
   "metadata": {},
   "outputs": [
    {
     "data": {
      "text/plain": [
       "[<matplotlib.lines.Line2D at 0x1f4086965b0>]"
      ]
     },
     "execution_count": 43,
     "metadata": {},
     "output_type": "execute_result"
    },
    {
     "data": {
      "image/png": "[encoded data removed]",
      "text/plain": [
       "<Figure size 432x288 with 1 Axes>"
      ]
     },
     "metadata": {},
     "output_type": "display_data"
    }
   ],
   "source": [
    "plt.scatter(df.salary, df.scoring)\n",
    "t = np.arange(0, 200, 1)\n",
    "v = a + b * t\n",
    "plt.plot(t, v, color='r')"
   ]
  },
  {
   "cell_type": "code",
   "execution_count": 44,
   "id": "919f7431",
   "metadata": {},
   "outputs": [],
   "source": [
    "X = df.salary.values.reshape((10,1))\n",
    "y = df.scoring.values.reshape((10,1))"
   ]
  },
  {
   "cell_type": "code",
   "execution_count": 45,
   "id": "caee113c",
   "metadata": {},
   "outputs": [
    {
     "data": {
      "text/plain": [
       "array([[5.88982042]])"
      ]
     },
     "execution_count": 45,
     "metadata": {},
     "output_type": "execute_result"
    }
   ],
   "source": [
    "np.linalg.inv(X.T @ X) @ X.T @ y"
   ]
  },
  {
   "cell_type": "code",
   "execution_count": 46,
   "id": "b1b48916",
   "metadata": {},
   "outputs": [],
   "source": [
    "X = df.salary.values.reshape((10,1))\n",
    "X = np.hstack([np.ones((10, 1)), X])\n",
    "y = df.scoring.values.reshape((10,1))"
   ]
  },
  {
   "cell_type": "code",
   "execution_count": 47,
   "id": "bfd0ef13",
   "metadata": {},
   "outputs": [
    {
     "data": {
      "text/plain": [
       "array([[444.17735732],\n",
       "       [  2.62053888]])"
      ]
     },
     "execution_count": 47,
     "metadata": {},
     "output_type": "execute_result"
    }
   ],
   "source": [
    "np.linalg.inv(X.T @ X) @ X.T @ y"
   ]
  },
  {
   "cell_type": "code",
   "execution_count": 48,
   "id": "bcec7658",
   "metadata": {},
   "outputs": [],
   "source": [
    "z = 444.1773573243596 + 2.620538882402765 * df.salary.values"
   ]
  },
  {
   "cell_type": "code",
   "execution_count": 49,
   "id": "6c11bd8a",
   "metadata": {},
   "outputs": [
    {
     "data": {
      "text/plain": [
       "0.7876386635293686"
      ]
     },
     "execution_count": 49,
     "metadata": {},
     "output_type": "execute_result"
    }
   ],
   "source": [
    "# коэффициент детерминации\n",
    "R1 = 1 - ((df.scoring.values - z)**2).sum() / sum_of_squares(df.scoring.values)\n",
    "R1"
   ]
  },
  {
   "cell_type": "code",
   "execution_count": 50,
   "id": "0deafec8",
   "metadata": {},
   "outputs": [
    {
     "data": {
      "text/plain": [
       "(1, 8)"
      ]
     },
     "execution_count": 50,
     "metadata": {},
     "output_type": "execute_result"
    }
   ],
   "source": [
    "n = df.salary.shape[0]\n",
    "m = 1\n",
    "\n",
    "k1 = m\n",
    "k2 = n - m - 1\n",
    "\n",
    "k1, k2"
   ]
  },
  {
   "cell_type": "code",
   "execution_count": 51,
   "id": "7b29937d",
   "metadata": {},
   "outputs": [
    {
     "data": {
      "text/plain": [
       "5.317655071578714"
      ]
     },
     "execution_count": 51,
     "metadata": {},
     "output_type": "execute_result"
    }
   ],
   "source": [
    "alpha = 0.05\n",
    "\n",
    "t = stats.f.ppf(1 - alpha, k1, k2)\n",
    "t"
   ]
  },
  {
   "cell_type": "code",
   "execution_count": 52,
   "id": "d858cda0",
   "metadata": {},
   "outputs": [
    {
     "data": {
      "text/plain": [
       "29.67164085966451"
      ]
     },
     "execution_count": 52,
     "metadata": {},
     "output_type": "execute_result"
    }
   ],
   "source": [
    "# F-критерий Фишера\n",
    "F = (R1 / k1) / ((1 - R1) / k2)\n",
    "F"
   ]
  },
  {
   "cell_type": "markdown",
   "id": "83a1a096",
   "metadata": {},
   "source": [
    "Статистика попала в критическую область, уравнение регрессии признаётся значимым."
   ]
  },
  {
   "cell_type": "code",
   "execution_count": null,
   "id": "ac0a0670",
   "metadata": {},
   "outputs": [],
   "source": []
  }
 ],
 "metadata": {
  "kernelspec": {
   "display_name": "Python 3",
   "language": "python",
   "name": "python3"
  },
  "language_info": {
   "codemirror_mode": {
    "name": "ipython",
    "version": 3
   },
   "file_extension": ".py",
   "mimetype": "text/x-python",
   "name": "python",
   "nbconvert_exporter": "python",
   "pygments_lexer": "ipython3",
   "version": "3.8.8"
  }
 },
 "nbformat": 4,
 "nbformat_minor": 5
}
