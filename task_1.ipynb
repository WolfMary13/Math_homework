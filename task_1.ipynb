{
 "cells": [
  {
   "cell_type": "markdown",
   "id": "8d28d4f7",
   "metadata": {},
   "source": [
    "### Задание 1"
   ]
  },
  {
   "cell_type": "markdown",
   "id": "1d811a97",
   "metadata": {},
   "source": [
    "Группа студентов изучает 10 различных дисциплин. Сколькими способами можно составить расписание на понедельник, если в этот день должно быть 4 разных занятия?"
   ]
  },
  {
   "cell_type": "markdown",
   "id": "8b670c82",
   "metadata": {},
   "source": [
    "Порядок занятий неважен, значит нам нужно сочетание любых 4х занятий из 10, следовательно, надо выбрать сочетания"
   ]
  },
  {
   "cell_type": "markdown",
   "id": "c8a53566",
   "metadata": {},
   "source": [
    "$$C_n^k = \\frac{n!}{k!(n - k)!}$$"
   ]
  },
  {
   "cell_type": "code",
   "execution_count": 1,
   "id": "e8fdcc9f",
   "metadata": {},
   "outputs": [],
   "source": [
    "from math import factorial"
   ]
  },
  {
   "cell_type": "code",
   "execution_count": 2,
   "id": "6e4ba342",
   "metadata": {},
   "outputs": [],
   "source": [
    "def combinations(n, k):\n",
    "    return int(factorial(n) / (factorial(k) * factorial(n - k)))"
   ]
  },
  {
   "cell_type": "code",
   "execution_count": 3,
   "id": "69f13e5e",
   "metadata": {},
   "outputs": [
    {
     "data": {
      "text/plain": [
       "210"
      ]
     },
     "execution_count": 3,
     "metadata": {},
     "output_type": "execute_result"
    }
   ],
   "source": [
    "combinations(10, 4)"
   ]
  },
  {
   "cell_type": "markdown",
   "id": "0a01a2ec",
   "metadata": {},
   "source": [
    "Ответ: 210 способов"
   ]
  },
  {
   "cell_type": "markdown",
   "id": "b39873d5",
   "metadata": {},
   "source": [
    "### Задание 2"
   ]
  },
  {
   "cell_type": "markdown",
   "id": "24d55f68",
   "metadata": {},
   "source": [
    "Из колоды в 52 карты вынимают случайным образом 4 карты. Найти число исходов, соответствующих тому, что был вытянут хотя бы один туз."
   ]
  },
  {
   "cell_type": "markdown",
   "id": "80f398cb",
   "metadata": {},
   "source": [
    "Нас устраивает ситуация когда мы вытаскиваем 1, 2, 3 или 4 туза из колоды карт."
   ]
  },
  {
   "cell_type": "markdown",
   "id": "729bfe7c",
   "metadata": {},
   "source": [
    "Сначала рассмотрим ситуацию выбора 1, 2, 3 или 4 тузов из 4х тузов"
   ]
  },
  {
   "cell_type": "code",
   "execution_count": 4,
   "id": "4886a2cb",
   "metadata": {},
   "outputs": [
    {
     "data": {
      "text/plain": [
       "4"
      ]
     },
     "execution_count": 4,
     "metadata": {},
     "output_type": "execute_result"
    }
   ],
   "source": [
    "combinations(4,1)"
   ]
  },
  {
   "cell_type": "code",
   "execution_count": 5,
   "id": "f76038fa",
   "metadata": {},
   "outputs": [
    {
     "data": {
      "text/plain": [
       "6"
      ]
     },
     "execution_count": 5,
     "metadata": {},
     "output_type": "execute_result"
    }
   ],
   "source": [
    "combinations(4,2)"
   ]
  },
  {
   "cell_type": "code",
   "execution_count": 7,
   "id": "a2733e55",
   "metadata": {},
   "outputs": [
    {
     "data": {
      "text/plain": [
       "4"
      ]
     },
     "execution_count": 7,
     "metadata": {},
     "output_type": "execute_result"
    }
   ],
   "source": [
    "combinations(4,3)"
   ]
  },
  {
   "cell_type": "code",
   "execution_count": 8,
   "id": "80cd6b29",
   "metadata": {},
   "outputs": [
    {
     "data": {
      "text/plain": [
       "1"
      ]
     },
     "execution_count": 8,
     "metadata": {},
     "output_type": "execute_result"
    }
   ],
   "source": [
    "combinations(4,4)"
   ]
  },
  {
   "cell_type": "markdown",
   "id": "75687087",
   "metadata": {},
   "source": [
    "В первом случае нам надо выбрать оставшиеся 3 карты из 48"
   ]
  },
  {
   "cell_type": "code",
   "execution_count": 9,
   "id": "d1471450",
   "metadata": {},
   "outputs": [
    {
     "data": {
      "text/plain": [
       "17296"
      ]
     },
     "execution_count": 9,
     "metadata": {},
     "output_type": "execute_result"
    }
   ],
   "source": [
    "combinations(48,3)"
   ]
  },
  {
   "cell_type": "markdown",
   "id": "51a0a7cb",
   "metadata": {},
   "source": [
    "Во втором случае нам надо выбрать оставшиеся 2 карты из 48"
   ]
  },
  {
   "cell_type": "code",
   "execution_count": 10,
   "id": "a488f9ca",
   "metadata": {},
   "outputs": [
    {
     "data": {
      "text/plain": [
       "1128"
      ]
     },
     "execution_count": 10,
     "metadata": {},
     "output_type": "execute_result"
    }
   ],
   "source": [
    "combinations(48,2)"
   ]
  },
  {
   "cell_type": "markdown",
   "id": "3bc6b65b",
   "metadata": {},
   "source": [
    "В третьем случае - 1 карту из 48"
   ]
  },
  {
   "cell_type": "code",
   "execution_count": 11,
   "id": "0069f90a",
   "metadata": {},
   "outputs": [
    {
     "data": {
      "text/plain": [
       "48"
      ]
     },
     "execution_count": 11,
     "metadata": {},
     "output_type": "execute_result"
    }
   ],
   "source": [
    "combinations(48,1)"
   ]
  },
  {
   "cell_type": "markdown",
   "id": "5805afdd",
   "metadata": {},
   "source": [
    "В последнем - 0 из 48"
   ]
  },
  {
   "cell_type": "code",
   "execution_count": 12,
   "id": "6de196bf",
   "metadata": {},
   "outputs": [
    {
     "data": {
      "text/plain": [
       "1"
      ]
     },
     "execution_count": 12,
     "metadata": {},
     "output_type": "execute_result"
    }
   ],
   "source": [
    "combinations(48,0)"
   ]
  },
  {
   "cell_type": "markdown",
   "id": "56cfd602",
   "metadata": {},
   "source": [
    "Итог для каждого случая:"
   ]
  },
  {
   "cell_type": "code",
   "execution_count": 13,
   "id": "7b239c1f",
   "metadata": {},
   "outputs": [
    {
     "data": {
      "text/plain": [
       "69184"
      ]
     },
     "execution_count": 13,
     "metadata": {},
     "output_type": "execute_result"
    }
   ],
   "source": [
    " 4*17296"
   ]
  },
  {
   "cell_type": "code",
   "execution_count": 14,
   "id": "e8ff4493",
   "metadata": {},
   "outputs": [
    {
     "data": {
      "text/plain": [
       "6768"
      ]
     },
     "execution_count": 14,
     "metadata": {},
     "output_type": "execute_result"
    }
   ],
   "source": [
    "6*1128"
   ]
  },
  {
   "cell_type": "code",
   "execution_count": 21,
   "id": "8c755655",
   "metadata": {},
   "outputs": [
    {
     "data": {
      "text/plain": [
       "192"
      ]
     },
     "execution_count": 21,
     "metadata": {},
     "output_type": "execute_result"
    }
   ],
   "source": [
    "4*48"
   ]
  },
  {
   "cell_type": "code",
   "execution_count": 16,
   "id": "00039dc9",
   "metadata": {},
   "outputs": [
    {
     "data": {
      "text/plain": [
       "1"
      ]
     },
     "execution_count": 16,
     "metadata": {},
     "output_type": "execute_result"
    }
   ],
   "source": [
    "1*1"
   ]
  },
  {
   "cell_type": "markdown",
   "id": "1ff07dba",
   "metadata": {},
   "source": [
    "Складываем полученные исходы:"
   ]
  },
  {
   "cell_type": "code",
   "execution_count": 17,
   "id": "4f618d4d",
   "metadata": {},
   "outputs": [
    {
     "data": {
      "text/plain": [
       "76145"
      ]
     },
     "execution_count": 17,
     "metadata": {},
     "output_type": "execute_result"
    }
   ],
   "source": [
    "69184+6768+192+1"
   ]
  },
  {
   "cell_type": "markdown",
   "id": "7a867fc1",
   "metadata": {},
   "source": [
    "Ответ: 76145 исходов"
   ]
  },
  {
   "cell_type": "markdown",
   "id": "59f4fc9a",
   "metadata": {},
   "source": [
    "### Задание 3"
   ]
  },
  {
   "cell_type": "markdown",
   "id": "65a78632",
   "metadata": {},
   "source": [
    "Семь человек рассаживаются наудачу на скамейке. Какова вероятность того, что два определённых человека будут сидеть рядом?"
   ]
  },
  {
   "cell_type": "markdown",
   "id": "7fc4050c",
   "metadata": {},
   "source": [
    "Порядок важен, поэтому сразу можем отметить, что нам понадобятся размещения"
   ]
  },
  {
   "cell_type": "markdown",
   "id": "b2f1e380",
   "metadata": {},
   "source": [
    "$$A_n^k = \\frac{n!}{(n - k)!}$$"
   ]
  },
  {
   "cell_type": "code",
   "execution_count": 18,
   "id": "75e8d61c",
   "metadata": {},
   "outputs": [],
   "source": [
    "def arrangements(n, k):\n",
    "    return int(factorial(n) / factorial(n - k))"
   ]
  },
  {
   "cell_type": "markdown",
   "id": "59d6c6b3",
   "metadata": {},
   "source": [
    "Разместить два человека рядом в одном ряду можно только двумя способами, когда перый человек будет справа(1) или слева(2) от второго"
   ]
  },
  {
   "cell_type": "code",
   "execution_count": 20,
   "id": "0c43af37",
   "metadata": {},
   "outputs": [
    {
     "data": {
      "text/plain": [
       "42"
      ]
     },
     "execution_count": 20,
     "metadata": {},
     "output_type": "execute_result"
    }
   ],
   "source": [
    "arrangements(7,2)"
   ]
  },
  {
   "cell_type": "markdown",
   "id": "c6d85af6",
   "metadata": {},
   "source": [
    "А количество способов разместить 7 человек в ряд определяется перестановками"
   ]
  },
  {
   "cell_type": "code",
   "execution_count": 22,
   "id": "71d2939e",
   "metadata": {},
   "outputs": [
    {
     "data": {
      "text/plain": [
       "5040"
      ]
     },
     "execution_count": 22,
     "metadata": {},
     "output_type": "execute_result"
    }
   ],
   "source": [
    "factorial(7)"
   ]
  },
  {
   "cell_type": "markdown",
   "id": "26fb0316",
   "metadata": {},
   "source": [
    "Итоговая вероятность равна количеству устраивающих нас исходов на общее количество исходов "
   ]
  },
  {
   "cell_type": "code",
   "execution_count": 23,
   "id": "49e52b6a",
   "metadata": {},
   "outputs": [
    {
     "data": {
      "text/plain": [
       "0.008333333333333333"
      ]
     },
     "execution_count": 23,
     "metadata": {},
     "output_type": "execute_result"
    }
   ],
   "source": [
    "42/5040"
   ]
  },
  {
   "cell_type": "markdown",
   "id": "6880dfca",
   "metadata": {},
   "source": [
    "Ответ: Вероятность 8,3 %"
   ]
  },
  {
   "cell_type": "markdown",
   "id": "840256b4",
   "metadata": {},
   "source": [
    "### Задание 4"
   ]
  },
  {
   "cell_type": "markdown",
   "id": "0ef469df",
   "metadata": {},
   "source": [
    "Из 60 вопросов, входящих в экзаменационные билеты, студент знает 50. Какова вероятность того, что среди трёх наугад выбранных вопросов студент знает: а) все? б) два?"
   ]
  },
  {
   "cell_type": "markdown",
   "id": "e0f8f602",
   "metadata": {},
   "source": [
    "Найдём число способов вытащить 3 любых билета из 60. Это бдет общее число исходов. Порядок не важен, поэтому используем сочетания"
   ]
  },
  {
   "cell_type": "code",
   "execution_count": 24,
   "id": "2606e4ac",
   "metadata": {},
   "outputs": [
    {
     "data": {
      "text/plain": [
       "34220"
      ]
     },
     "execution_count": 24,
     "metadata": {},
     "output_type": "execute_result"
    }
   ],
   "source": [
    "combinations(60,3)"
   ]
  },
  {
   "cell_type": "markdown",
   "id": "8c59edf8",
   "metadata": {},
   "source": [
    "Но студент знает только 50 билетов, поэтому для благоприятного исхода нам надо вытащить любые 3 билета из 50"
   ]
  },
  {
   "cell_type": "code",
   "execution_count": 25,
   "id": "77a0c9bd",
   "metadata": {},
   "outputs": [
    {
     "data": {
      "text/plain": [
       "19600"
      ]
     },
     "execution_count": 25,
     "metadata": {},
     "output_type": "execute_result"
    }
   ],
   "source": [
    "combinations(50,3)"
   ]
  },
  {
   "cell_type": "markdown",
   "id": "38fd0fab",
   "metadata": {},
   "source": [
    "Тогда вероятность будет определяться отношением благоприятных исходов ко всем исходам"
   ]
  },
  {
   "cell_type": "code",
   "execution_count": 26,
   "id": "77efb0b0",
   "metadata": {},
   "outputs": [
    {
     "data": {
      "text/plain": [
       "0.5727644652250146"
      ]
     },
     "execution_count": 26,
     "metadata": {},
     "output_type": "execute_result"
    }
   ],
   "source": [
    "19600/34220"
   ]
  },
  {
   "cell_type": "markdown",
   "id": "41596d6d",
   "metadata": {},
   "source": [
    "Ответ (для 3х вопросов): вероятность 57,28%"
   ]
  },
  {
   "cell_type": "markdown",
   "id": "3c5ef1c4",
   "metadata": {},
   "source": [
    "Для второго случая число общих исходов будет таким же"
   ]
  },
  {
   "cell_type": "markdown",
   "id": "1338f9a5",
   "metadata": {},
   "source": [
    "Для благопрятного исхода студенту надо вытянуть 2 из 50 выученных"
   ]
  },
  {
   "cell_type": "code",
   "execution_count": 28,
   "id": "cc630c6d",
   "metadata": {},
   "outputs": [
    {
     "data": {
      "text/plain": [
       "1225"
      ]
     },
     "execution_count": 28,
     "metadata": {},
     "output_type": "execute_result"
    }
   ],
   "source": [
    "combinations(50,2)"
   ]
  },
  {
   "cell_type": "markdown",
   "id": "47e64f3e",
   "metadata": {},
   "source": [
    "И любой 1 билет из оставшихся 10"
   ]
  },
  {
   "cell_type": "code",
   "execution_count": 29,
   "id": "b1675aa1",
   "metadata": {},
   "outputs": [
    {
     "data": {
      "text/plain": [
       "10"
      ]
     },
     "execution_count": 29,
     "metadata": {},
     "output_type": "execute_result"
    }
   ],
   "source": [
    "combinations(10,1)"
   ]
  },
  {
   "cell_type": "markdown",
   "id": "4a64febe",
   "metadata": {},
   "source": [
    "Общее количество благоприятных исходов"
   ]
  },
  {
   "cell_type": "code",
   "execution_count": 31,
   "id": "5b1a3bbf",
   "metadata": {},
   "outputs": [
    {
     "data": {
      "text/plain": [
       "12250"
      ]
     },
     "execution_count": 31,
     "metadata": {},
     "output_type": "execute_result"
    }
   ],
   "source": [
    "1225*10"
   ]
  },
  {
   "cell_type": "markdown",
   "id": "63721f91",
   "metadata": {},
   "source": [
    "Итоговая вероятность"
   ]
  },
  {
   "cell_type": "code",
   "execution_count": 32,
   "id": "45df4167",
   "metadata": {},
   "outputs": [
    {
     "data": {
      "text/plain": [
       "0.35797779076563413"
      ]
     },
     "execution_count": 32,
     "metadata": {},
     "output_type": "execute_result"
    }
   ],
   "source": [
    "12250/34220"
   ]
  },
  {
   "cell_type": "markdown",
   "id": "a1a5f7db",
   "metadata": {},
   "source": [
    "Ответ (для 2х из 3х вопросов): 35,8%"
   ]
  },
  {
   "cell_type": "markdown",
   "id": "7cd72119",
   "metadata": {},
   "source": [
    "### Задание 5"
   ]
  },
  {
   "cell_type": "markdown",
   "id": "5b1bc6a6",
   "metadata": {},
   "source": [
    "Бросается игральная кость. Пусть событие A - появление чётного числа, событие B - появление числа больше трёх. Являются ли эти события независимыми?"
   ]
  },
  {
   "cell_type": "markdown",
   "id": "dc5bd1e0",
   "metadata": {},
   "source": [
    "Если мыслить логически, то событие В с вероятностью 66% приведёт к событию А. Для события В, число больше 3х для игральной кости - это 4, 5 или 6. 5 и 6 - это чётные числа, значит в этом случае произошло событие А.  \n",
    "Для собития А подходят числа 2, 4 и 6. С вероятностью 66%, если произошло событие А, то произошло и событие В, т.к. числа 4 и 6 подходят для этого события.  \n",
    "Получается, что события зависимы (к тому же мы бросоем одну игральную кость)."
   ]
  },
  {
   "cell_type": "code",
   "execution_count": null,
   "id": "bc30c2d4",
   "metadata": {},
   "outputs": [],
   "source": []
  }
 ],
 "metadata": {
  "kernelspec": {
   "display_name": "Python 3",
   "language": "python",
   "name": "python3"
  },
  "language_info": {
   "codemirror_mode": {
    "name": "ipython",
    "version": 3
   },
   "file_extension": ".py",
   "mimetype": "text/x-python",
   "name": "python",
   "nbconvert_exporter": "python",
   "pygments_lexer": "ipython3",
   "version": "3.8.8"
  }
 },
 "nbformat": 4,
 "nbformat_minor": 5
}
